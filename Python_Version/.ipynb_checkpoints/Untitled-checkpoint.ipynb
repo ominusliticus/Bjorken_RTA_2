{
 "cells": [
  {
   "cell_type": "markdown",
   "metadata": {},
   "source": [
    "# Python Redition of Exact Solution"
   ]
  },
  {
   "cell_type": "markdown",
   "metadata": {},
   "source": [
    "## Exact Solution \n",
    "The temperature evolution is provided by Strickland's code, available at:\n",
    "link: http://personal.kent.edu/~mstrick6/code/index.html\n",
    "Specifically, the RTA-CUDA v1.0\n",
    "\n",
    "This is fed into the exact solution of the Boltzmann equation (BE) in the relaxation approximation \n",
    "$$\n",
    "p_\\mu \\partial^\\mu f(x,p)\n",
    "=\n",
    "C[f(x,p)]\n",
    "=\n",
    "-\\frac{u\\cdot p}{\\tau_\\mathrm{rel}}(f-f_\\mathrm{eq})\n",
    "$$\n",
    "where $\\tau_\\mathrm{rel}$ is the relaxation time which can be function of spacetime, $f$ is the BE solution and $f_\\mathrm{eq}$ is the equilibrium soulition given by\n",
    "$$\n",
    "f_\\mathrm{eq} \n",
    "= \n",
    "\\frac{g}{(2\\pi)^3}\n",
    "\\exp\\left\\lbrack -\\frac{u\\cdot p}{T} \\right\\rbrack\n",
    "$$\n",
    "where $g$ is the degeneracy factor.\n",
    "\n",
    "In the idealize case of Bjorken expansion, the symmetries reduce the space time dependence to just the proper time $\\tau$. The most convenient momentum variables are the transverse momentum $p_T$ and the longitudinal momentum $w$. In this coordinate system, the exact solution to the BE is given by\n",
    "$$\n",
    "f(\\tau,w,p_T)\n",
    "=\n",
    "D(\\tau,\\tau_0) f_0(w,p_T)\n",
    "+\n",
    "\\int_{\\tau_0}^\\tau \n",
    "\\frac{d\\tau'}{\\tau_\\mathrm{rm}(\\tau')}\n",
    "D(\\tau, \\tau')\n",
    "f_\\mathrm{eq}(\\tau',w,p_T),\n",
    "$$\n",
    "where $f_0$ is the inital distribution parameterized in the Romataschke-Strickland form\n",
    "$$\n",
    "f_0(w,p_T) \n",
    "=\n",
    "\\frac{g}{(2\\pi)^3} \\exp\\left\\lbrack \n",
    "- \\frac{\\sqrt{(1+\\xi_0)w^2 + p_T^2 \\tau_0^2}}{\\Lambda \\tau} \\right\\rbrack\n",
    "$$\n",
    "and $D$ is the damping function given by\n",
    "$$\n",
    "D(\\tau_1, \\tau_2) \n",
    "=\n",
    "\\exp\\left\\lbrack \n",
    "-\\int_{\\tau_1}^{\\tau_2} \\frac{d\\tau''}{\\tau_\\mathrm{rel}(\\tau'')} \\right\\rbrack.\n",
    "$$\n",
    "The $\\tau_0$ is the initial time, the factor $\\xi(\\tau)$ quantifies the momentum anisotropy in the longitudinal versus transverse directions and $\\xi_0 = \\xi(\\tau_0)$, and $\\Lambda$ is the effective temperature which can calculated using \n",
    "$$\n",
    "\\Lambda(\\tau) \n",
    "= \n",
    "2^{1/4}T\n",
    "\\left\\lbrack \n",
    "\\frac{1}{1+\\xi(\\tau)}\n",
    "+\n",
    "\\frac{\\arctan\\sqrt{\\xi(\\tau)}}{\\sqrt{\\xi(\\tau)}}\n",
    "\\right \\rbrack^{-1/4}\n",
    "$$\n",
    "\n",
    "Lastly, the relaxation time can be written as \n",
    "$$\n",
    "\\tau_\\mathrm{rel}(\\tau) = \\frac{5 \\eta}{s T(\\tau)}\n",
    "$$ \n",
    "where $\\eta$ is the shear viscosity and and $s$ is the entropy density. The ration $\\eta/s$ is assumed to be constant."
   ]
  },
  {
   "cell_type": "code",
   "execution_count": 85,
   "metadata": {},
   "outputs": [],
   "source": [
    "import numpy as np\n",
    "import matplotlib.pyplot as plt\n",
    "import pandas as pd\n",
    "from scipy import interpolate \n",
    "from scipy.integrate import quad\n",
    "from scipy.interpolate import InterpolatedUnivariateSpline\n",
    "import seaborn as sns\n",
    "import dill\n",
    "import time\n",
    "\n",
    "sns.set()\n",
    "%matplotlib inline\n",
    "plt.style.use('ggplot')\n",
    "\n",
    "#global constants\n",
    "hbarc = 0.1973   # GeV fm\n",
    "etas  = 1.0/4.0/np.pi\n",
    "xi0   = 0.0 \n",
    "g     = 2.0\n",
    "norm  = g / (2.0 * np.pi)**3"
   ]
  },
  {
   "cell_type": "code",
   "execution_count": null,
   "metadata": {},
   "outputs": [],
   "source": [
    "def plot_generator(rows, columns, data_pairs, axis_title_pairs):\n",
    "    ax = None \n",
    "    if rows == 1 and columns == 1"
   ]
  },
  {
   "cell_type": "code",
   "execution_count": 87,
   "metadata": {},
   "outputs": [
    {
     "name": "stdout",
     "output_type": "stream",
     "text": [
      "Initial time: 1.0 fm/s\n",
      "Inital temperature: 0.6 GeV\n",
      "Initial energy density: 10.2583 GeV/fm^3\n"
     ]
    },
    {
     "data": {
      "text/plain": [
       "Text(0, 0.5, 'e [GeV/fm$^3$]')"
      ]
     },
     "execution_count": 87,
     "metadata": {},
     "output_type": "execute_result"
    },
    {
     "data": {
      "image/png": "[encoded data removed]",
      "text/plain": [
       "<Figure size 720x432 with 2 Axes>"
      ]
     },
     "metadata": {},
     "output_type": "display_data"
    }
   ],
   "source": [
    "# Import data \n",
    "T_profile = pd.read_csv('input/beta_vs_tau_200.dat', sep=' ', header=None, names=['count','tau','temp'])\n",
    "\n",
    "# important parameters from data and output\n",
    "tau0 = T_profile['tau'][0]\n",
    "T0   = T_profile['temp'][0]\n",
    "print(f\"Initial time: {tau0} fm/s\")\n",
    "print(f\"Inital temperature: {T0} GeV\")\n",
    "\n",
    "# calculate energy evolution and set inital value\n",
    "T_profile['e'] = 3.0 * g * T_profile['temp']**4. / np.pi**2 / hbarc**3.\n",
    "e0 = T_profile['e'][0]\n",
    "print(f\"Initial energy density: {e0:.4f} GeV/fm^3\")\n",
    "\n",
    "# plot temperature and energy evolution evolution \n",
    "fix, axes = plt.subplots(1, 2, figsize=(10,6))\n",
    "axes[0].plot(T_profile['tau'], T_profile['temp'])\n",
    "axes[0].set_xlabel(r'$\\tau$ [fm/c]')\n",
    "axes[0].set_ylabel(r'T [GeV]')\n",
    "axes[1].plot(T_profile['tau'], T_profile['e'])\n",
    "axes[1].set_xlabel(r'\\tau [fm/c]')\n",
    "axes[1].set_ylabel(r'e [GeV/fm$^3$]')"
   ]
  },
  {
   "cell_type": "code",
   "execution_count": 83,
   "metadata": {},
   "outputs": [
    {
     "data": {
      "text/plain": [
       "Text(0, 0.5, 'f(\\\\tau,2.0,2.0)')"
      ]
     },
     "execution_count": 83,
     "metadata": {},
     "output_type": "execute_result"
    },
    {
     "data": {
      "image/png": "[encoded data removed]",
      "text/plain": [
       "<Figure size 432x288 with 1 Axes>"
      ]
     },
     "metadata": {},
     "output_type": "display_data"
    }
   ],
   "source": [
    "T_interp = InterpolatedUnivariateSpline(T_profile['tau'], T_profile['temp'], k=3)\n",
    "\n",
    "def feq(tau, w, pT):\n",
    "    T = T_interp(tau)\n",
    "    v = np.sqrt((w / tau)**2 + pT**2.) \n",
    "    return norm * np.exp(-v / T ) \n",
    "\n",
    "def Damp(tau2, tau1):\n",
    "    res = T_interp.integral(tau1, tau2) / 5.0 / etas\n",
    "    return np.exp(-res)\n",
    "\n",
    "def soln_integrand(taup, tau, w, pT):\n",
    "    return Damp(tau, taup) * T_interp(taup) * feq(taup, w, pT) / 5.0 / etas\n",
    "\n",
    "def R(z):\n",
    "    if (z == 0.0):\n",
    "        return 1.0\n",
    "    else:\n",
    "        result = 1.0 / (1.0 + z) + atan(sqrt(z)) / sqrt(z)\n",
    "        return result * 0.5\n",
    "\n",
    "def SPD(tau, w, pT):\n",
    "    vp = np.sqrt((1. + xi0) * (w / tau)**2 + pT**2)\n",
    "    L = T_interp(tau) / R(xi0)**.25\n",
    "    res1 = Damp(tau, tau0) * norm * np.exp(- vp / L)\n",
    "    res2, err = quad(soln_integrand, tau0, tau, args=(tau, w, pT))\n",
    "    return res1 + res2\n",
    "\n",
    "steps = len(T_profile['tau'])\n",
    "spd = np.zeros(steps)\n",
    "for i in range(steps):\n",
    "    tau = T_profile['tau'][i]\n",
    "    spd[i] = SPD(tau, 2.0, 2.0)\n",
    "fig, ax = plt.subplots()\n",
    "ax.plot(T_profile['tau'], spd)\n",
    "ax.set_xlabel(r'\\tau [fm/c]')\n",
    "ax.set_ylabel(r'f(\\tau,2.0,2.0)')"
   ]
  },
  {
   "cell_type": "code",
   "execution_count": 59,
   "metadata": {},
   "outputs": [],
   "source": [
    "class Bjorken_RTA:\n",
    "    \"\"\"\n",
    "    Class that calculates Bjorken-RTA exact solution and \n",
    "    computes arbitrary moments of the resulting solution\n",
    "    \"\"\"\n",
    "    def __init__(self, file_path):\n",
    "        \"\"\"\n",
    "        Loads data, calculates energy density profile and\n",
    "        sets inital values for tau, temprature and energy\n",
    "        denisty\n",
    "        \"\"\"\n",
    "        # Temperature profile from Strickland code\n",
    "        self.T_profile = pd.read_csv('input/beta_vs_tau_200.dat', sep='\\t', header=None, names=['tau','temp'])\n",
    "        self.tau0 = T_profile['tau'][0]\n",
    "        self.T0   = T_profile['temp'][0]\n",
    "        print(f\"Initial time: {tau0} fm/s\")\n",
    "        print(f\"Inital temperature: {T0} GeV\")\n",
    "        \n",
    "        # Energy evolution from temperature evolution\n",
    "        T_profile['e'] = 3.0 * g * T_profile['temp']**4. / np.pi**2. / hbarc**3.\n",
    "        self.e0 = T_profile['e'][0]\n",
    "        print(f\"Initial energy density: {e0:.4f} GeV/fm^3\")\n",
    "        \n",
    "        # Number of points in \n",
    "        self.steps = len(T_profile['tau'])\n",
    "        \n",
    "        "
   ]
  },
  {
   "cell_type": "code",
   "execution_count": 60,
   "metadata": {},
   "outputs": [
    {
     "name": "stdout",
     "output_type": "stream",
     "text": [
      "Initial time: 1.0 fm/s\n",
      "Inital temperature: 0.6 GeV\n",
      "Initial energy density: 10.2583 GeV/fm^3\n"
     ]
    }
   ],
   "source": [
    "my_soln = Bjorken_RTA('input/T_500.dat')"
   ]
  },
  {
   "cell_type": "code",
   "execution_count": 75,
   "metadata": {},
   "outputs": [
    {
     "name": "stdout",
     "output_type": "stream",
     "text": [
      "1.012753378911642\n",
      "0.9791534394343426\n"
     ]
    }
   ],
   "source": [
    "print( T_profile['tau'][1] )\n",
    "print( T_interp.integral(1.,3.) )"
   ]
  },
  {
   "cell_type": "code",
   "execution_count": 79,
   "metadata": {},
   "outputs": [
    {
     "data": {
      "text/plain": [
       "7.977727354888822e-05"
      ]
     },
     "execution_count": 79,
     "metadata": {},
     "output_type": "execute_result"
    }
   ],
   "source": [
    "SPD(1.2, 2.0, 2.0)"
   ]
  },
  {
   "cell_type": "code",
   "execution_count": null,
   "metadata": {},
   "outputs": [],
   "source": []
  }
 ],
 "metadata": {
  "kernelspec": {
   "display_name": "Python 3",
   "language": "python",
   "name": "python3"
  },
  "language_info": {
   "codemirror_mode": {
    "name": "ipython",
    "version": 3
   },
   "file_extension": ".py",
   "mimetype": "text/x-python",
   "name": "python",
   "nbconvert_exporter": "python",
   "pygments_lexer": "ipython3",
   "version": "3.7.3"
  }
 },
 "nbformat": 4,
 "nbformat_minor": 2
}
